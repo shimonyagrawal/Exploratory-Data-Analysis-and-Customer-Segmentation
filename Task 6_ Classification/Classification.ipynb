{
 "cells": [
  {
   "cell_type": "code",
   "execution_count": 24,
   "metadata": {},
   "outputs": [],
   "source": [
    "import pandas as pd\n",
    "import numpy as np\n",
    "import seaborn as sns\n",
    "carnival_visitors = pd.read_csv(\"carnival_visitors.csv\")"
   ]
  },
  {
   "cell_type": "code",
   "execution_count": 25,
   "metadata": {},
   "outputs": [
    {
     "data": {
      "text/html": [
       "<div>\n",
       "<style scoped>\n",
       "    .dataframe tbody tr th:only-of-type {\n",
       "        vertical-align: middle;\n",
       "    }\n",
       "\n",
       "    .dataframe tbody tr th {\n",
       "        vertical-align: top;\n",
       "    }\n",
       "\n",
       "    .dataframe thead th {\n",
       "        text-align: right;\n",
       "    }\n",
       "</style>\n",
       "<table border=\"1\" class=\"dataframe\">\n",
       "  <thead>\n",
       "    <tr style=\"text-align: right;\">\n",
       "      <th></th>\n",
       "      <th>Unnamed: 0</th>\n",
       "      <th>householdID</th>\n",
       "      <th>est_inc_USD</th>\n",
       "      <th>est_netw_USD</th>\n",
       "      <th>hhold_field</th>\n",
       "      <th>hhold_oldest</th>\n",
       "      <th>hhold_pax</th>\n",
       "      <th>hhold_youngest</th>\n",
       "      <th>homeState</th>\n",
       "      <th>hhold_car</th>\n",
       "      <th>stream_subs</th>\n",
       "      <th>primary</th>\n",
       "    </tr>\n",
       "  </thead>\n",
       "  <tbody>\n",
       "    <tr>\n",
       "      <th>0</th>\n",
       "      <td>0</td>\n",
       "      <td>1</td>\n",
       "      <td>113831.0</td>\n",
       "      <td>418044.0</td>\n",
       "      <td>Finance</td>\n",
       "      <td>45</td>\n",
       "      <td>4</td>\n",
       "      <td>12</td>\n",
       "      <td>Maine</td>\n",
       "      <td>LuxurySedan</td>\n",
       "      <td>5</td>\n",
       "      <td>entertain</td>\n",
       "    </tr>\n",
       "    <tr>\n",
       "      <th>1</th>\n",
       "      <td>1</td>\n",
       "      <td>2</td>\n",
       "      <td>66441.0</td>\n",
       "      <td>454233.0</td>\n",
       "      <td>Tech</td>\n",
       "      <td>44</td>\n",
       "      <td>4</td>\n",
       "      <td>11</td>\n",
       "      <td>Maine</td>\n",
       "      <td>LuxurySedan</td>\n",
       "      <td>1</td>\n",
       "      <td>consume</td>\n",
       "    </tr>\n",
       "    <tr>\n",
       "      <th>2</th>\n",
       "      <td>2</td>\n",
       "      <td>3</td>\n",
       "      <td>160024.0</td>\n",
       "      <td>602594.0</td>\n",
       "      <td>Finance</td>\n",
       "      <td>38</td>\n",
       "      <td>2</td>\n",
       "      <td>6</td>\n",
       "      <td>Vermont</td>\n",
       "      <td>LuxurySedan</td>\n",
       "      <td>2</td>\n",
       "      <td>entertain</td>\n",
       "    </tr>\n",
       "    <tr>\n",
       "      <th>3</th>\n",
       "      <td>3</td>\n",
       "      <td>4</td>\n",
       "      <td>82985.0</td>\n",
       "      <td>473262.0</td>\n",
       "      <td>Govt</td>\n",
       "      <td>39</td>\n",
       "      <td>3</td>\n",
       "      <td>8</td>\n",
       "      <td>Massachusetts</td>\n",
       "      <td>LuxurySedan</td>\n",
       "      <td>4</td>\n",
       "      <td>consume</td>\n",
       "    </tr>\n",
       "    <tr>\n",
       "      <th>4</th>\n",
       "      <td>4</td>\n",
       "      <td>5</td>\n",
       "      <td>109369.0</td>\n",
       "      <td>527138.0</td>\n",
       "      <td>Finance</td>\n",
       "      <td>43</td>\n",
       "      <td>5</td>\n",
       "      <td>5</td>\n",
       "      <td>Massachusetts</td>\n",
       "      <td>SUV</td>\n",
       "      <td>3</td>\n",
       "      <td>entertain</td>\n",
       "    </tr>\n",
       "  </tbody>\n",
       "</table>\n",
       "</div>"
      ],
      "text/plain": [
       "   Unnamed: 0  householdID  est_inc_USD  est_netw_USD hhold_field  \\\n",
       "0           0            1     113831.0      418044.0     Finance   \n",
       "1           1            2      66441.0      454233.0        Tech   \n",
       "2           2            3     160024.0      602594.0     Finance   \n",
       "3           3            4      82985.0      473262.0        Govt   \n",
       "4           4            5     109369.0      527138.0     Finance   \n",
       "\n",
       "   hhold_oldest  hhold_pax  hhold_youngest      homeState    hhold_car  \\\n",
       "0            45          4              12          Maine  LuxurySedan   \n",
       "1            44          4              11          Maine  LuxurySedan   \n",
       "2            38          2               6        Vermont  LuxurySedan   \n",
       "3            39          3               8  Massachusetts  LuxurySedan   \n",
       "4            43          5               5  Massachusetts          SUV   \n",
       "\n",
       "   stream_subs    primary  \n",
       "0            5  entertain  \n",
       "1            1    consume  \n",
       "2            2  entertain  \n",
       "3            4    consume  \n",
       "4            3  entertain  "
      ]
     },
     "execution_count": 25,
     "metadata": {},
     "output_type": "execute_result"
    }
   ],
   "source": [
    "carnival_visitors.head()"
   ]
  },
  {
   "cell_type": "code",
   "execution_count": 26,
   "metadata": {},
   "outputs": [],
   "source": [
    "carnival_visitors = carnival_visitors.drop('householdID',1)"
   ]
  },
  {
   "cell_type": "code",
   "execution_count": 27,
   "metadata": {},
   "outputs": [],
   "source": [
    "carnival_visitors = carnival_visitors.drop('Unnamed: 0',1)"
   ]
  },
  {
   "cell_type": "code",
   "execution_count": 28,
   "metadata": {},
   "outputs": [
    {
     "name": "stdout",
     "output_type": "stream",
     "text": [
      "<class 'pandas.core.frame.DataFrame'>\n",
      "RangeIndex: 15000 entries, 0 to 14999\n",
      "Data columns (total 10 columns):\n",
      " #   Column          Non-Null Count  Dtype  \n",
      "---  ------          --------------  -----  \n",
      " 0   est_inc_USD     15000 non-null  float64\n",
      " 1   est_netw_USD    15000 non-null  float64\n",
      " 2   hhold_field     15000 non-null  object \n",
      " 3   hhold_oldest    15000 non-null  int64  \n",
      " 4   hhold_pax       15000 non-null  int64  \n",
      " 5   hhold_youngest  15000 non-null  int64  \n",
      " 6   homeState       15000 non-null  object \n",
      " 7   hhold_car       14449 non-null  object \n",
      " 8   stream_subs     15000 non-null  int64  \n",
      " 9   primary         15000 non-null  object \n",
      "dtypes: float64(2), int64(4), object(4)\n",
      "memory usage: 1.1+ MB\n"
     ]
    }
   ],
   "source": [
    "carnival_visitors.info()"
   ]
  },
  {
   "cell_type": "code",
   "execution_count": 29,
   "metadata": {},
   "outputs": [
    {
     "data": {
      "text/html": [
       "<div>\n",
       "<style scoped>\n",
       "    .dataframe tbody tr th:only-of-type {\n",
       "        vertical-align: middle;\n",
       "    }\n",
       "\n",
       "    .dataframe tbody tr th {\n",
       "        vertical-align: top;\n",
       "    }\n",
       "\n",
       "    .dataframe thead th {\n",
       "        text-align: right;\n",
       "    }\n",
       "</style>\n",
       "<table border=\"1\" class=\"dataframe\">\n",
       "  <thead>\n",
       "    <tr style=\"text-align: right;\">\n",
       "      <th></th>\n",
       "      <th>est_inc_USD</th>\n",
       "      <th>est_netw_USD</th>\n",
       "      <th>hhold_field</th>\n",
       "      <th>hhold_oldest</th>\n",
       "      <th>hhold_pax</th>\n",
       "      <th>hhold_youngest</th>\n",
       "      <th>homeState</th>\n",
       "      <th>hhold_car</th>\n",
       "      <th>stream_subs</th>\n",
       "      <th>primary</th>\n",
       "    </tr>\n",
       "  </thead>\n",
       "  <tbody>\n",
       "    <tr>\n",
       "      <th>0</th>\n",
       "      <td>113831.0</td>\n",
       "      <td>418044.0</td>\n",
       "      <td>Finance</td>\n",
       "      <td>45</td>\n",
       "      <td>4</td>\n",
       "      <td>12</td>\n",
       "      <td>Maine</td>\n",
       "      <td>LuxurySedan</td>\n",
       "      <td>5</td>\n",
       "      <td>entertain</td>\n",
       "    </tr>\n",
       "    <tr>\n",
       "      <th>1</th>\n",
       "      <td>66441.0</td>\n",
       "      <td>454233.0</td>\n",
       "      <td>Tech</td>\n",
       "      <td>44</td>\n",
       "      <td>4</td>\n",
       "      <td>11</td>\n",
       "      <td>Maine</td>\n",
       "      <td>LuxurySedan</td>\n",
       "      <td>1</td>\n",
       "      <td>consume</td>\n",
       "    </tr>\n",
       "    <tr>\n",
       "      <th>2</th>\n",
       "      <td>160024.0</td>\n",
       "      <td>602594.0</td>\n",
       "      <td>Finance</td>\n",
       "      <td>38</td>\n",
       "      <td>2</td>\n",
       "      <td>6</td>\n",
       "      <td>Vermont</td>\n",
       "      <td>LuxurySedan</td>\n",
       "      <td>2</td>\n",
       "      <td>entertain</td>\n",
       "    </tr>\n",
       "    <tr>\n",
       "      <th>3</th>\n",
       "      <td>82985.0</td>\n",
       "      <td>473262.0</td>\n",
       "      <td>Govt</td>\n",
       "      <td>39</td>\n",
       "      <td>3</td>\n",
       "      <td>8</td>\n",
       "      <td>Massachusetts</td>\n",
       "      <td>LuxurySedan</td>\n",
       "      <td>4</td>\n",
       "      <td>consume</td>\n",
       "    </tr>\n",
       "    <tr>\n",
       "      <th>4</th>\n",
       "      <td>109369.0</td>\n",
       "      <td>527138.0</td>\n",
       "      <td>Finance</td>\n",
       "      <td>43</td>\n",
       "      <td>5</td>\n",
       "      <td>5</td>\n",
       "      <td>Massachusetts</td>\n",
       "      <td>SUV</td>\n",
       "      <td>3</td>\n",
       "      <td>entertain</td>\n",
       "    </tr>\n",
       "  </tbody>\n",
       "</table>\n",
       "</div>"
      ],
      "text/plain": [
       "   est_inc_USD  est_netw_USD hhold_field  hhold_oldest  hhold_pax  \\\n",
       "0     113831.0      418044.0     Finance            45          4   \n",
       "1      66441.0      454233.0        Tech            44          4   \n",
       "2     160024.0      602594.0     Finance            38          2   \n",
       "3      82985.0      473262.0        Govt            39          3   \n",
       "4     109369.0      527138.0     Finance            43          5   \n",
       "\n",
       "   hhold_youngest      homeState    hhold_car  stream_subs    primary  \n",
       "0              12          Maine  LuxurySedan            5  entertain  \n",
       "1              11          Maine  LuxurySedan            1    consume  \n",
       "2               6        Vermont  LuxurySedan            2  entertain  \n",
       "3               8  Massachusetts  LuxurySedan            4    consume  \n",
       "4               5  Massachusetts          SUV            3  entertain  "
      ]
     },
     "execution_count": 29,
     "metadata": {},
     "output_type": "execute_result"
    }
   ],
   "source": [
    "carnival_visitors.head()"
   ]
  },
  {
   "cell_type": "code",
   "execution_count": 30,
   "metadata": {},
   "outputs": [
    {
     "data": {
      "text/plain": [
       "Index(['est_inc_USD', 'est_netw_USD', 'hhold_field', 'hhold_oldest',\n",
       "       'hhold_pax', 'hhold_youngest', 'homeState', 'hhold_car', 'stream_subs',\n",
       "       'primary'],\n",
       "      dtype='object')"
      ]
     },
     "execution_count": 30,
     "metadata": {},
     "output_type": "execute_result"
    }
   ],
   "source": [
    "carnival_visitors.columns"
   ]
  },
  {
   "cell_type": "code",
   "execution_count": 31,
   "metadata": {},
   "outputs": [],
   "source": [
    "carnival_visitors_withdummies = pd.get_dummies(carnival_visitors, drop_first=True, columns=['hhold_field','homeState','hhold_car','primary'])"
   ]
  },
  {
   "cell_type": "code",
   "execution_count": 32,
   "metadata": {},
   "outputs": [
    {
     "data": {
      "text/html": [
       "<div>\n",
       "<style scoped>\n",
       "    .dataframe tbody tr th:only-of-type {\n",
       "        vertical-align: middle;\n",
       "    }\n",
       "\n",
       "    .dataframe tbody tr th {\n",
       "        vertical-align: top;\n",
       "    }\n",
       "\n",
       "    .dataframe thead th {\n",
       "        text-align: right;\n",
       "    }\n",
       "</style>\n",
       "<table border=\"1\" class=\"dataframe\">\n",
       "  <thead>\n",
       "    <tr style=\"text-align: right;\">\n",
       "      <th></th>\n",
       "      <th>est_inc_USD</th>\n",
       "      <th>est_netw_USD</th>\n",
       "      <th>hhold_oldest</th>\n",
       "      <th>hhold_pax</th>\n",
       "      <th>hhold_youngest</th>\n",
       "      <th>stream_subs</th>\n",
       "      <th>hhold_field_Finance</th>\n",
       "      <th>hhold_field_Govt</th>\n",
       "      <th>hhold_field_Manufacturing</th>\n",
       "      <th>hhold_field_Other</th>\n",
       "      <th>...</th>\n",
       "      <th>homeState_Ontario</th>\n",
       "      <th>homeState_Quebec</th>\n",
       "      <th>homeState_Rhode Island</th>\n",
       "      <th>homeState_US_Other</th>\n",
       "      <th>homeState_Vermont</th>\n",
       "      <th>hhold_car_LuxurySedan</th>\n",
       "      <th>hhold_car_Pickup</th>\n",
       "      <th>hhold_car_SUV</th>\n",
       "      <th>hhold_car_Sedan</th>\n",
       "      <th>primary_entertain</th>\n",
       "    </tr>\n",
       "  </thead>\n",
       "  <tbody>\n",
       "    <tr>\n",
       "      <th>0</th>\n",
       "      <td>113831.0</td>\n",
       "      <td>418044.0</td>\n",
       "      <td>45</td>\n",
       "      <td>4</td>\n",
       "      <td>12</td>\n",
       "      <td>5</td>\n",
       "      <td>1</td>\n",
       "      <td>0</td>\n",
       "      <td>0</td>\n",
       "      <td>0</td>\n",
       "      <td>...</td>\n",
       "      <td>0</td>\n",
       "      <td>0</td>\n",
       "      <td>0</td>\n",
       "      <td>0</td>\n",
       "      <td>0</td>\n",
       "      <td>1</td>\n",
       "      <td>0</td>\n",
       "      <td>0</td>\n",
       "      <td>0</td>\n",
       "      <td>1</td>\n",
       "    </tr>\n",
       "    <tr>\n",
       "      <th>1</th>\n",
       "      <td>66441.0</td>\n",
       "      <td>454233.0</td>\n",
       "      <td>44</td>\n",
       "      <td>4</td>\n",
       "      <td>11</td>\n",
       "      <td>1</td>\n",
       "      <td>0</td>\n",
       "      <td>0</td>\n",
       "      <td>0</td>\n",
       "      <td>0</td>\n",
       "      <td>...</td>\n",
       "      <td>0</td>\n",
       "      <td>0</td>\n",
       "      <td>0</td>\n",
       "      <td>0</td>\n",
       "      <td>0</td>\n",
       "      <td>1</td>\n",
       "      <td>0</td>\n",
       "      <td>0</td>\n",
       "      <td>0</td>\n",
       "      <td>0</td>\n",
       "    </tr>\n",
       "    <tr>\n",
       "      <th>2</th>\n",
       "      <td>160024.0</td>\n",
       "      <td>602594.0</td>\n",
       "      <td>38</td>\n",
       "      <td>2</td>\n",
       "      <td>6</td>\n",
       "      <td>2</td>\n",
       "      <td>1</td>\n",
       "      <td>0</td>\n",
       "      <td>0</td>\n",
       "      <td>0</td>\n",
       "      <td>...</td>\n",
       "      <td>0</td>\n",
       "      <td>0</td>\n",
       "      <td>0</td>\n",
       "      <td>0</td>\n",
       "      <td>1</td>\n",
       "      <td>1</td>\n",
       "      <td>0</td>\n",
       "      <td>0</td>\n",
       "      <td>0</td>\n",
       "      <td>1</td>\n",
       "    </tr>\n",
       "    <tr>\n",
       "      <th>3</th>\n",
       "      <td>82985.0</td>\n",
       "      <td>473262.0</td>\n",
       "      <td>39</td>\n",
       "      <td>3</td>\n",
       "      <td>8</td>\n",
       "      <td>4</td>\n",
       "      <td>0</td>\n",
       "      <td>1</td>\n",
       "      <td>0</td>\n",
       "      <td>0</td>\n",
       "      <td>...</td>\n",
       "      <td>0</td>\n",
       "      <td>0</td>\n",
       "      <td>0</td>\n",
       "      <td>0</td>\n",
       "      <td>0</td>\n",
       "      <td>1</td>\n",
       "      <td>0</td>\n",
       "      <td>0</td>\n",
       "      <td>0</td>\n",
       "      <td>0</td>\n",
       "    </tr>\n",
       "    <tr>\n",
       "      <th>4</th>\n",
       "      <td>109369.0</td>\n",
       "      <td>527138.0</td>\n",
       "      <td>43</td>\n",
       "      <td>5</td>\n",
       "      <td>5</td>\n",
       "      <td>3</td>\n",
       "      <td>1</td>\n",
       "      <td>0</td>\n",
       "      <td>0</td>\n",
       "      <td>0</td>\n",
       "      <td>...</td>\n",
       "      <td>0</td>\n",
       "      <td>0</td>\n",
       "      <td>0</td>\n",
       "      <td>0</td>\n",
       "      <td>0</td>\n",
       "      <td>0</td>\n",
       "      <td>0</td>\n",
       "      <td>1</td>\n",
       "      <td>0</td>\n",
       "      <td>1</td>\n",
       "    </tr>\n",
       "  </tbody>\n",
       "</table>\n",
       "<p>5 rows × 27 columns</p>\n",
       "</div>"
      ],
      "text/plain": [
       "   est_inc_USD  est_netw_USD  hhold_oldest  hhold_pax  hhold_youngest  \\\n",
       "0     113831.0      418044.0            45          4              12   \n",
       "1      66441.0      454233.0            44          4              11   \n",
       "2     160024.0      602594.0            38          2               6   \n",
       "3      82985.0      473262.0            39          3               8   \n",
       "4     109369.0      527138.0            43          5               5   \n",
       "\n",
       "   stream_subs  hhold_field_Finance  hhold_field_Govt  \\\n",
       "0            5                    1                 0   \n",
       "1            1                    0                 0   \n",
       "2            2                    1                 0   \n",
       "3            4                    0                 1   \n",
       "4            3                    1                 0   \n",
       "\n",
       "   hhold_field_Manufacturing  hhold_field_Other  ...  homeState_Ontario  \\\n",
       "0                          0                  0  ...                  0   \n",
       "1                          0                  0  ...                  0   \n",
       "2                          0                  0  ...                  0   \n",
       "3                          0                  0  ...                  0   \n",
       "4                          0                  0  ...                  0   \n",
       "\n",
       "   homeState_Quebec  homeState_Rhode Island  homeState_US_Other  \\\n",
       "0                 0                       0                   0   \n",
       "1                 0                       0                   0   \n",
       "2                 0                       0                   0   \n",
       "3                 0                       0                   0   \n",
       "4                 0                       0                   0   \n",
       "\n",
       "   homeState_Vermont  hhold_car_LuxurySedan  hhold_car_Pickup  hhold_car_SUV  \\\n",
       "0                  0                      1                 0              0   \n",
       "1                  0                      1                 0              0   \n",
       "2                  1                      1                 0              0   \n",
       "3                  0                      1                 0              0   \n",
       "4                  0                      0                 0              1   \n",
       "\n",
       "   hhold_car_Sedan  primary_entertain  \n",
       "0                0                  1  \n",
       "1                0                  0  \n",
       "2                0                  1  \n",
       "3                0                  0  \n",
       "4                0                  1  \n",
       "\n",
       "[5 rows x 27 columns]"
      ]
     },
     "execution_count": 32,
     "metadata": {},
     "output_type": "execute_result"
    }
   ],
   "source": [
    "carnival_visitors_withdummies.head()"
   ]
  },
  {
   "cell_type": "code",
   "execution_count": 33,
   "metadata": {},
   "outputs": [
    {
     "data": {
      "text/plain": [
       "Index(['est_inc_USD', 'est_netw_USD', 'hhold_oldest', 'hhold_pax',\n",
       "       'hhold_youngest', 'stream_subs', 'hhold_field_Finance',\n",
       "       'hhold_field_Govt', 'hhold_field_Manufacturing', 'hhold_field_Other',\n",
       "       'hhold_field_Services', 'hhold_field_Tech', 'homeState_Connecticut',\n",
       "       'homeState_Maine', 'homeState_Massachusetts', 'homeState_New Hampshire',\n",
       "       'homeState_New York', 'homeState_Ontario', 'homeState_Quebec',\n",
       "       'homeState_Rhode Island', 'homeState_US_Other', 'homeState_Vermont',\n",
       "       'hhold_car_LuxurySedan', 'hhold_car_Pickup', 'hhold_car_SUV',\n",
       "       'hhold_car_Sedan', 'primary_entertain'],\n",
       "      dtype='object')"
      ]
     },
     "execution_count": 33,
     "metadata": {},
     "output_type": "execute_result"
    }
   ],
   "source": [
    "carnival_visitors_withdummies.columns"
   ]
  },
  {
   "cell_type": "code",
   "execution_count": 34,
   "metadata": {},
   "outputs": [],
   "source": [
    "X = carnival_visitors_withdummies[['est_inc_USD', 'est_netw_USD', 'hhold_oldest', 'hhold_pax',\n",
    "       'hhold_youngest', 'stream_subs', 'hhold_field_Finance',\n",
    "       'hhold_field_Govt', 'hhold_field_Manufacturing', 'hhold_field_Other',\n",
    "       'hhold_field_Services', 'hhold_field_Tech', 'homeState_Connecticut',\n",
    "       'homeState_Maine', 'homeState_Massachusetts', 'homeState_New Hampshire',\n",
    "       'homeState_New York', 'homeState_Ontario', 'homeState_Quebec',\n",
    "       'homeState_Rhode Island', 'homeState_US_Other', 'homeState_Vermont',\n",
    "       'hhold_car_LuxurySedan', 'hhold_car_Pickup', 'hhold_car_SUV',\n",
    "       'hhold_car_Sedan']]\n",
    "y = carnival_visitors_withdummies['primary_entertain']"
   ]
  },
  {
   "cell_type": "code",
   "execution_count": 35,
   "metadata": {},
   "outputs": [],
   "source": [
    "from sklearn.model_selection import train_test_split\n",
    "X_train, X_test, y_train, y_test = train_test_split(X, y, test_size=0.4, random_state=20)"
   ]
  },
  {
   "cell_type": "code",
   "execution_count": 36,
   "metadata": {},
   "outputs": [
    {
     "data": {
      "text/plain": [
       "LogisticRegression(C=1.0, class_weight=None, dual=False, fit_intercept=True,\n",
       "                   intercept_scaling=1, l1_ratio=None, max_iter=100,\n",
       "                   multi_class='auto', n_jobs=None, penalty='l2',\n",
       "                   random_state=None, solver='lbfgs', tol=0.0001, verbose=0,\n",
       "                   warm_start=False)"
      ]
     },
     "execution_count": 36,
     "metadata": {},
     "output_type": "execute_result"
    }
   ],
   "source": [
    "from sklearn.linear_model import LogisticRegression\n",
    "logmodel = LogisticRegression()\n",
    "logmodel.fit(X_train, y_train)"
   ]
  },
  {
   "cell_type": "code",
   "execution_count": 37,
   "metadata": {},
   "outputs": [
    {
     "data": {
      "text/plain": [
       "array([1.26302465e-11])"
      ]
     },
     "execution_count": 37,
     "metadata": {},
     "output_type": "execute_result"
    }
   ],
   "source": [
    "logmodel.intercept_"
   ]
  },
  {
   "cell_type": "code",
   "execution_count": 38,
   "metadata": {},
   "outputs": [
    {
     "data": {
      "text/html": [
       "<div>\n",
       "<style scoped>\n",
       "    .dataframe tbody tr th:only-of-type {\n",
       "        vertical-align: middle;\n",
       "    }\n",
       "\n",
       "    .dataframe tbody tr th {\n",
       "        vertical-align: top;\n",
       "    }\n",
       "\n",
       "    .dataframe thead th {\n",
       "        text-align: right;\n",
       "    }\n",
       "</style>\n",
       "<table border=\"1\" class=\"dataframe\">\n",
       "  <thead>\n",
       "    <tr style=\"text-align: right;\">\n",
       "      <th></th>\n",
       "      <th>Coef</th>\n",
       "    </tr>\n",
       "  </thead>\n",
       "  <tbody>\n",
       "    <tr>\n",
       "      <th>est_inc_USD</th>\n",
       "      <td>-1.346049e-05</td>\n",
       "    </tr>\n",
       "    <tr>\n",
       "      <th>est_netw_USD</th>\n",
       "      <td>3.197250e-06</td>\n",
       "    </tr>\n",
       "    <tr>\n",
       "      <th>hhold_oldest</th>\n",
       "      <td>-9.919948e-10</td>\n",
       "    </tr>\n",
       "    <tr>\n",
       "      <th>hhold_pax</th>\n",
       "      <td>6.903534e-10</td>\n",
       "    </tr>\n",
       "    <tr>\n",
       "      <th>hhold_youngest</th>\n",
       "      <td>-1.934200e-09</td>\n",
       "    </tr>\n",
       "    <tr>\n",
       "      <th>stream_subs</th>\n",
       "      <td>1.593925e-10</td>\n",
       "    </tr>\n",
       "    <tr>\n",
       "      <th>hhold_field_Finance</th>\n",
       "      <td>-2.775465e-10</td>\n",
       "    </tr>\n",
       "    <tr>\n",
       "      <th>hhold_field_Govt</th>\n",
       "      <td>-2.794272e-10</td>\n",
       "    </tr>\n",
       "    <tr>\n",
       "      <th>hhold_field_Manufacturing</th>\n",
       "      <td>-1.152547e-11</td>\n",
       "    </tr>\n",
       "    <tr>\n",
       "      <th>hhold_field_Other</th>\n",
       "      <td>2.216667e-11</td>\n",
       "    </tr>\n",
       "    <tr>\n",
       "      <th>hhold_field_Services</th>\n",
       "      <td>3.189523e-10</td>\n",
       "    </tr>\n",
       "    <tr>\n",
       "      <th>hhold_field_Tech</th>\n",
       "      <td>2.058779e-11</td>\n",
       "    </tr>\n",
       "    <tr>\n",
       "      <th>homeState_Connecticut</th>\n",
       "      <td>9.778656e-12</td>\n",
       "    </tr>\n",
       "    <tr>\n",
       "      <th>homeState_Maine</th>\n",
       "      <td>2.915534e-11</td>\n",
       "    </tr>\n",
       "    <tr>\n",
       "      <th>homeState_Massachusetts</th>\n",
       "      <td>-6.667121e-13</td>\n",
       "    </tr>\n",
       "    <tr>\n",
       "      <th>homeState_New Hampshire</th>\n",
       "      <td>-9.128152e-12</td>\n",
       "    </tr>\n",
       "    <tr>\n",
       "      <th>homeState_New York</th>\n",
       "      <td>9.241949e-12</td>\n",
       "    </tr>\n",
       "    <tr>\n",
       "      <th>homeState_Ontario</th>\n",
       "      <td>-1.335375e-12</td>\n",
       "    </tr>\n",
       "    <tr>\n",
       "      <th>homeState_Quebec</th>\n",
       "      <td>1.729823e-12</td>\n",
       "    </tr>\n",
       "    <tr>\n",
       "      <th>homeState_Rhode Island</th>\n",
       "      <td>-8.648985e-14</td>\n",
       "    </tr>\n",
       "    <tr>\n",
       "      <th>homeState_US_Other</th>\n",
       "      <td>-6.838964e-12</td>\n",
       "    </tr>\n",
       "    <tr>\n",
       "      <th>homeState_Vermont</th>\n",
       "      <td>-1.471909e-11</td>\n",
       "    </tr>\n",
       "    <tr>\n",
       "      <th>hhold_car_LuxurySedan</th>\n",
       "      <td>1.075194e-10</td>\n",
       "    </tr>\n",
       "    <tr>\n",
       "      <th>hhold_car_Pickup</th>\n",
       "      <td>-2.352479e-11</td>\n",
       "    </tr>\n",
       "    <tr>\n",
       "      <th>hhold_car_SUV</th>\n",
       "      <td>-7.126145e-11</td>\n",
       "    </tr>\n",
       "    <tr>\n",
       "      <th>hhold_car_Sedan</th>\n",
       "      <td>8.129706e-11</td>\n",
       "    </tr>\n",
       "  </tbody>\n",
       "</table>\n",
       "</div>"
      ],
      "text/plain": [
       "                                   Coef\n",
       "est_inc_USD               -1.346049e-05\n",
       "est_netw_USD               3.197250e-06\n",
       "hhold_oldest              -9.919948e-10\n",
       "hhold_pax                  6.903534e-10\n",
       "hhold_youngest            -1.934200e-09\n",
       "stream_subs                1.593925e-10\n",
       "hhold_field_Finance       -2.775465e-10\n",
       "hhold_field_Govt          -2.794272e-10\n",
       "hhold_field_Manufacturing -1.152547e-11\n",
       "hhold_field_Other          2.216667e-11\n",
       "hhold_field_Services       3.189523e-10\n",
       "hhold_field_Tech           2.058779e-11\n",
       "homeState_Connecticut      9.778656e-12\n",
       "homeState_Maine            2.915534e-11\n",
       "homeState_Massachusetts   -6.667121e-13\n",
       "homeState_New Hampshire   -9.128152e-12\n",
       "homeState_New York         9.241949e-12\n",
       "homeState_Ontario         -1.335375e-12\n",
       "homeState_Quebec           1.729823e-12\n",
       "homeState_Rhode Island    -8.648985e-14\n",
       "homeState_US_Other        -6.838964e-12\n",
       "homeState_Vermont         -1.471909e-11\n",
       "hhold_car_LuxurySedan      1.075194e-10\n",
       "hhold_car_Pickup          -2.352479e-11\n",
       "hhold_car_SUV             -7.126145e-11\n",
       "hhold_car_Sedan            8.129706e-11"
      ]
     },
     "execution_count": 38,
     "metadata": {},
     "output_type": "execute_result"
    }
   ],
   "source": [
    "pd.DataFrame(data=logmodel.coef_.transpose(),index=X_train.columns,columns=['Coef'])"
   ]
  },
  {
   "cell_type": "markdown",
   "metadata": {},
   "source": [
    "<i> The above data shows the coefficients from our model. These coefficients show the change in log(odds) of the response variable being a \"1\" for each one unit change in that predictor variable. The positive values of the coefficient will bring the log(odds) up. The negative coefficient will bring the log(odds) down. The absolute value of the coefficient tells us how strong the coefficients are.In the above data set, we have not considered units of the columns. Hence, we can say that data frame has data in multiple units such as- est_inc_USD is measured in $$ however hhold_oldest are measured in numeric.\n",
    "\n",
    "<i> Variables which are associated with greater likelihood of \"entertain\" as a primary purpose of past visits are - \n",
    "hhold_car_Sedan, homeState_New York, homeState_Connecticut, hhold_pax, hhold_field_Services. These variables can influence the outcome variable since they are all associated with any form of entertainment - preference of sedan as a primary vehile, located in New York and Connecticute etc. It is interesting to note that the variable that influences 'entertain' is the one where the primary wage earner works in the Service sector.Also, it is important to note that if the hhold_pax is higher then people will most likely visit for entertainment. It may due to the fact that those houses would have kids and big family. Variables like owning an SUV, living in states that are not accessible to Lobsterland by car and having members that older in age have lesser influence on 'entertain'."
   ]
  },
  {
   "cell_type": "code",
   "execution_count": 111,
   "metadata": {},
   "outputs": [
    {
     "data": {
      "text/plain": [
       "0.6086666666666667"
      ]
     },
     "execution_count": 111,
     "metadata": {},
     "output_type": "execute_result"
    }
   ],
   "source": [
    "pred_train = logmodel.predict(X_train)\n",
    "from sklearn.metrics import accuracy_score\n",
    "accuracy_score(y_train, pred_train)"
   ]
  },
  {
   "cell_type": "code",
   "execution_count": 112,
   "metadata": {},
   "outputs": [
    {
     "data": {
      "text/plain": [
       "0.607"
      ]
     },
     "execution_count": 112,
     "metadata": {},
     "output_type": "execute_result"
    }
   ],
   "source": [
    "pred_test = logmodel.predict(X_test)\n",
    "from sklearn.metrics import accuracy_score\n",
    "accuracy_score(y_test, pred_test)"
   ]
  },
  {
   "cell_type": "code",
   "execution_count": 113,
   "metadata": {},
   "outputs": [
    {
     "data": {
      "image/png": "[encoded data removed]",
      "text/plain": [
       "<Figure size 432x288 with 1 Axes>"
      ]
     },
     "metadata": {
      "needs_background": "light"
     },
     "output_type": "display_data"
    },
    {
     "name": "stdout",
     "output_type": "stream",
     "text": [
      "[[ 917  599]\n",
      " [1759 2725]]\n"
     ]
    }
   ],
   "source": [
    "%matplotlib inline\n",
    "import matplotlib.pyplot as plt\n",
    "import seaborn as sns\n",
    "from sklearn.metrics import confusion_matrix\n",
    "mat = confusion_matrix(pred_test, y_test)\n",
    "sns.heatmap(mat, square=True, annot=True, cbar=False)\n",
    "plt.xlabel(\"Actual Result\")\n",
    "plt.ylabel(\"Predicted Result\")\n",
    "a, b = plt.ylim() \n",
    "a += 0.5 \n",
    "b -= 0.5 \n",
    "plt.ylim(a, b)\n",
    "plt.show()\n",
    "print(mat)"
   ]
  },
  {
   "cell_type": "code",
   "execution_count": 114,
   "metadata": {},
   "outputs": [
    {
     "data": {
      "text/plain": [
       "0.6086666666666667"
      ]
     },
     "execution_count": 114,
     "metadata": {},
     "output_type": "execute_result"
    }
   ],
   "source": [
    "pred_train = logmodel.predict(X_train)\n",
    "from sklearn.metrics import accuracy_score\n",
    "accuracy_score(y_train, pred_train)"
   ]
  },
  {
   "cell_type": "code",
   "execution_count": 115,
   "metadata": {},
   "outputs": [
    {
     "data": {
      "text/plain": [
       "0.607"
      ]
     },
     "execution_count": 115,
     "metadata": {},
     "output_type": "execute_result"
    }
   ],
   "source": [
    "pred_test = logmodel.predict(X_test)\n",
    "from sklearn.metrics import accuracy_score\n",
    "accuracy_score(y_test, pred_test)"
   ]
  },
  {
   "cell_type": "markdown",
   "metadata": {},
   "source": [
    "<i> It is important to know that the model behaves in a similar manner with Test data set because we have build the model using Training data set. \n",
    "\n",
    "After looking at the accuracy scores of the model on Training and Test data, the model is reliable for Training data set as well as Test data set.If we see huge difference between these two values then it suggests that the model might not be good for our test data. In this case, both the values are very very close so we can say that Test data behaves pretty much same as Training set."
   ]
  },
  {
   "cell_type": "markdown",
   "metadata": {},
   "source": [
    "<h3>Why Lobster Land should care about the model? </h3>"
   ]
  },
  {
   "cell_type": "markdown",
   "metadata": {},
   "source": [
    "\n",
    "<i> Model classifies users into the variables entertain or consume. If we get to know the probablity of that customer to renew then it makes more sense someone to take decision. The probablity data will help us to understand better about that customer in terms of renewal. \n",
    "\n",
    "As a Marketing Analytics team at lobster land, I would try to choose a certain probablity score (score>75%) and model prediction outcome as \"1\" to target some of the potential customers. I would also try to breakdown customers into the different clusters before reaching out with different version of marketing communication. For example - If I have list of customers whose associated probablity outcome is greater than 0.75 and model classify them as \"1\",then I will classify customers' communication separately. This may personalize the communication based on the consumer interest.\n",
    "\n",
    "Lobster Land need to communicate folks who are willing to visit to the winter land for entertainment purpose as well as consumption purpose. When they will visit the winterland then they will spend money on food, games, entry fee and other activities. \n",
    "\n",
    "After, we build the model, we can generate list of predicted customer based on certain criteria and share that detail to the lobsterland. If we can tie back the prediction with the houseHold ID then lobster land should be able to reach out them via mail with a discount coupon to visit. The discount coupon could be for any activities/food stall etc. \n",
    "\n",
    "Similarly, based on this classification, lobsterland can save lot of money in terms of marketing by targeting right customers. </i>"
   ]
  }
 ],
 "metadata": {
  "kernelspec": {
   "display_name": "Python 3",
   "language": "python",
   "name": "python3"
  },
  "language_info": {
   "codemirror_mode": {
    "name": "ipython",
    "version": 3
   },
   "file_extension": ".py",
   "mimetype": "text/x-python",
   "name": "python",
   "nbconvert_exporter": "python",
   "pygments_lexer": "ipython3",
   "version": "3.7.4"
  }
 },
 "nbformat": 4,
 "nbformat_minor": 4
}

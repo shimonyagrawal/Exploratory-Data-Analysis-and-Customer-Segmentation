{
 "cells": [
  {
   "cell_type": "markdown",
   "metadata": {},
   "source": [
    "<h2> Segmentation & Targeting "
   ]
  },
  {
   "cell_type": "code",
   "execution_count": 2,
   "metadata": {},
   "outputs": [
    {
     "data": {
      "text/html": [
       "<div>\n",
       "<style scoped>\n",
       "    .dataframe tbody tr th:only-of-type {\n",
       "        vertical-align: middle;\n",
       "    }\n",
       "\n",
       "    .dataframe tbody tr th {\n",
       "        vertical-align: top;\n",
       "    }\n",
       "\n",
       "    .dataframe thead th {\n",
       "        text-align: right;\n",
       "    }\n",
       "</style>\n",
       "<table border=\"1\" class=\"dataframe\">\n",
       "  <thead>\n",
       "    <tr style=\"text-align: right;\">\n",
       "      <th></th>\n",
       "      <th>householdID</th>\n",
       "      <th>total_ppl</th>\n",
       "      <th>own_rent</th>\n",
       "      <th>square_foot</th>\n",
       "      <th>household_income</th>\n",
       "      <th>number_pets</th>\n",
       "      <th>county</th>\n",
       "      <th>entertainment_spend_est</th>\n",
       "      <th>travel_spend_est</th>\n",
       "      <th>under_12</th>\n",
       "      <th>LL_passholder</th>\n",
       "    </tr>\n",
       "  </thead>\n",
       "  <tbody>\n",
       "    <tr>\n",
       "      <th>0</th>\n",
       "      <td>1</td>\n",
       "      <td>3</td>\n",
       "      <td>own</td>\n",
       "      <td>3309</td>\n",
       "      <td>80464</td>\n",
       "      <td>1</td>\n",
       "      <td>York</td>\n",
       "      <td>2535</td>\n",
       "      <td>2842</td>\n",
       "      <td>1</td>\n",
       "      <td>No</td>\n",
       "    </tr>\n",
       "    <tr>\n",
       "      <th>1</th>\n",
       "      <td>2</td>\n",
       "      <td>3</td>\n",
       "      <td>own</td>\n",
       "      <td>3814</td>\n",
       "      <td>47696</td>\n",
       "      <td>2</td>\n",
       "      <td>York</td>\n",
       "      <td>2913</td>\n",
       "      <td>3938</td>\n",
       "      <td>1</td>\n",
       "      <td>No</td>\n",
       "    </tr>\n",
       "    <tr>\n",
       "      <th>2</th>\n",
       "      <td>3</td>\n",
       "      <td>3</td>\n",
       "      <td>rent</td>\n",
       "      <td>2592</td>\n",
       "      <td>108256</td>\n",
       "      <td>2</td>\n",
       "      <td>Cumberland</td>\n",
       "      <td>1986</td>\n",
       "      <td>3687</td>\n",
       "      <td>2</td>\n",
       "      <td>No</td>\n",
       "    </tr>\n",
       "    <tr>\n",
       "      <th>3</th>\n",
       "      <td>4</td>\n",
       "      <td>2</td>\n",
       "      <td>own</td>\n",
       "      <td>2628</td>\n",
       "      <td>68064</td>\n",
       "      <td>1</td>\n",
       "      <td>Cumberland</td>\n",
       "      <td>2505</td>\n",
       "      <td>2826</td>\n",
       "      <td>1</td>\n",
       "      <td>No</td>\n",
       "    </tr>\n",
       "    <tr>\n",
       "      <th>4</th>\n",
       "      <td>5</td>\n",
       "      <td>3</td>\n",
       "      <td>rent</td>\n",
       "      <td>2442</td>\n",
       "      <td>62786</td>\n",
       "      <td>2</td>\n",
       "      <td>Sagadahoc</td>\n",
       "      <td>3541</td>\n",
       "      <td>1344</td>\n",
       "      <td>2</td>\n",
       "      <td>No</td>\n",
       "    </tr>\n",
       "  </tbody>\n",
       "</table>\n",
       "</div>"
      ],
      "text/plain": [
       "   householdID  total_ppl own_rent  square_foot  household_income  \\\n",
       "0            1          3      own         3309             80464   \n",
       "1            2          3      own         3814             47696   \n",
       "2            3          3     rent         2592            108256   \n",
       "3            4          2      own         2628             68064   \n",
       "4            5          3     rent         2442             62786   \n",
       "\n",
       "   number_pets      county  entertainment_spend_est  travel_spend_est  \\\n",
       "0            1        York                     2535              2842   \n",
       "1            2        York                     2913              3938   \n",
       "2            2  Cumberland                     1986              3687   \n",
       "3            1  Cumberland                     2505              2826   \n",
       "4            2   Sagadahoc                     3541              1344   \n",
       "\n",
       "   under_12 LL_passholder  \n",
       "0         1            No  \n",
       "1         1            No  \n",
       "2         2            No  \n",
       "3         1            No  \n",
       "4         2            No  "
      ]
     },
     "execution_count": 2,
     "metadata": {},
     "output_type": "execute_result"
    }
   ],
   "source": [
    "import pandas as pd\n",
    "import numpy as np\n",
    "import seaborn as sns\n",
    "import matplotlib.pyplot as plt\n",
    "Portlandfamilies = pd.read_csv(\"portland_families.csv\")\n",
    "Portlandfamilies.head()"
   ]
  },
  {
   "cell_type": "markdown",
   "metadata": {},
   "source": [
    "<i> We will remove the household ID column as this may not be required in the analysis.Let's ensure that the dataset doesn't contain any NaN value. "
   ]
  },
  {
   "cell_type": "code",
   "execution_count": 3,
   "metadata": {},
   "outputs": [
    {
     "data": {
      "text/plain": [
       "False"
      ]
     },
     "execution_count": 3,
     "metadata": {},
     "output_type": "execute_result"
    }
   ],
   "source": [
    "Portlandfamilies.isnull().values.any()"
   ]
  },
  {
   "cell_type": "code",
   "execution_count": 4,
   "metadata": {},
   "outputs": [
    {
     "data": {
      "text/html": [
       "<div>\n",
       "<style scoped>\n",
       "    .dataframe tbody tr th:only-of-type {\n",
       "        vertical-align: middle;\n",
       "    }\n",
       "\n",
       "    .dataframe tbody tr th {\n",
       "        vertical-align: top;\n",
       "    }\n",
       "\n",
       "    .dataframe thead th {\n",
       "        text-align: right;\n",
       "    }\n",
       "</style>\n",
       "<table border=\"1\" class=\"dataframe\">\n",
       "  <thead>\n",
       "    <tr style=\"text-align: right;\">\n",
       "      <th></th>\n",
       "      <th>householdID</th>\n",
       "      <th>total_ppl</th>\n",
       "      <th>square_foot</th>\n",
       "      <th>household_income</th>\n",
       "      <th>number_pets</th>\n",
       "      <th>entertainment_spend_est</th>\n",
       "      <th>travel_spend_est</th>\n",
       "      <th>under_12</th>\n",
       "    </tr>\n",
       "  </thead>\n",
       "  <tbody>\n",
       "    <tr>\n",
       "      <th>count</th>\n",
       "      <td>15000.000000</td>\n",
       "      <td>15000.000000</td>\n",
       "      <td>15000.000000</td>\n",
       "      <td>15000.000000</td>\n",
       "      <td>15000.000000</td>\n",
       "      <td>15000.000000</td>\n",
       "      <td>15000.000000</td>\n",
       "      <td>15000.000000</td>\n",
       "    </tr>\n",
       "    <tr>\n",
       "      <th>mean</th>\n",
       "      <td>7500.500000</td>\n",
       "      <td>3.130067</td>\n",
       "      <td>3118.928600</td>\n",
       "      <td>72555.562067</td>\n",
       "      <td>1.509200</td>\n",
       "      <td>2651.515000</td>\n",
       "      <td>3556.169400</td>\n",
       "      <td>1.766533</td>\n",
       "    </tr>\n",
       "    <tr>\n",
       "      <th>std</th>\n",
       "      <td>4330.271354</td>\n",
       "      <td>0.891592</td>\n",
       "      <td>815.925967</td>\n",
       "      <td>18758.466766</td>\n",
       "      <td>0.790163</td>\n",
       "      <td>766.499083</td>\n",
       "      <td>599.815642</td>\n",
       "      <td>0.732072</td>\n",
       "    </tr>\n",
       "    <tr>\n",
       "      <th>min</th>\n",
       "      <td>1.000000</td>\n",
       "      <td>1.000000</td>\n",
       "      <td>370.000000</td>\n",
       "      <td>6801.000000</td>\n",
       "      <td>0.000000</td>\n",
       "      <td>193.000000</td>\n",
       "      <td>924.000000</td>\n",
       "      <td>0.000000</td>\n",
       "    </tr>\n",
       "    <tr>\n",
       "      <th>25%</th>\n",
       "      <td>3750.750000</td>\n",
       "      <td>3.000000</td>\n",
       "      <td>2506.000000</td>\n",
       "      <td>60007.000000</td>\n",
       "      <td>1.000000</td>\n",
       "      <td>2140.000000</td>\n",
       "      <td>3173.750000</td>\n",
       "      <td>1.000000</td>\n",
       "    </tr>\n",
       "    <tr>\n",
       "      <th>50%</th>\n",
       "      <td>7500.500000</td>\n",
       "      <td>3.000000</td>\n",
       "      <td>3042.000000</td>\n",
       "      <td>72512.000000</td>\n",
       "      <td>2.000000</td>\n",
       "      <td>2650.000000</td>\n",
       "      <td>3573.000000</td>\n",
       "      <td>2.000000</td>\n",
       "    </tr>\n",
       "    <tr>\n",
       "      <th>75%</th>\n",
       "      <td>11250.250000</td>\n",
       "      <td>4.000000</td>\n",
       "      <td>3738.000000</td>\n",
       "      <td>85201.750000</td>\n",
       "      <td>2.000000</td>\n",
       "      <td>3158.250000</td>\n",
       "      <td>3961.000000</td>\n",
       "      <td>2.000000</td>\n",
       "    </tr>\n",
       "    <tr>\n",
       "      <th>max</th>\n",
       "      <td>15000.000000</td>\n",
       "      <td>7.000000</td>\n",
       "      <td>6081.000000</td>\n",
       "      <td>145381.000000</td>\n",
       "      <td>4.000000</td>\n",
       "      <td>5541.000000</td>\n",
       "      <td>5908.000000</td>\n",
       "      <td>4.000000</td>\n",
       "    </tr>\n",
       "  </tbody>\n",
       "</table>\n",
       "</div>"
      ],
      "text/plain": [
       "        householdID     total_ppl   square_foot  household_income  \\\n",
       "count  15000.000000  15000.000000  15000.000000      15000.000000   \n",
       "mean    7500.500000      3.130067   3118.928600      72555.562067   \n",
       "std     4330.271354      0.891592    815.925967      18758.466766   \n",
       "min        1.000000      1.000000    370.000000       6801.000000   \n",
       "25%     3750.750000      3.000000   2506.000000      60007.000000   \n",
       "50%     7500.500000      3.000000   3042.000000      72512.000000   \n",
       "75%    11250.250000      4.000000   3738.000000      85201.750000   \n",
       "max    15000.000000      7.000000   6081.000000     145381.000000   \n",
       "\n",
       "        number_pets  entertainment_spend_est  travel_spend_est      under_12  \n",
       "count  15000.000000             15000.000000      15000.000000  15000.000000  \n",
       "mean       1.509200              2651.515000       3556.169400      1.766533  \n",
       "std        0.790163               766.499083        599.815642      0.732072  \n",
       "min        0.000000               193.000000        924.000000      0.000000  \n",
       "25%        1.000000              2140.000000       3173.750000      1.000000  \n",
       "50%        2.000000              2650.000000       3573.000000      2.000000  \n",
       "75%        2.000000              3158.250000       3961.000000      2.000000  \n",
       "max        4.000000              5541.000000       5908.000000      4.000000  "
      ]
     },
     "execution_count": 4,
     "metadata": {},
     "output_type": "execute_result"
    }
   ],
   "source": [
    "Portlandfamilies.describe()"
   ]
  },
  {
   "cell_type": "code",
   "execution_count": 5,
   "metadata": {},
   "outputs": [
    {
     "data": {
      "text/html": [
       "<div>\n",
       "<style scoped>\n",
       "    .dataframe tbody tr th:only-of-type {\n",
       "        vertical-align: middle;\n",
       "    }\n",
       "\n",
       "    .dataframe tbody tr th {\n",
       "        vertical-align: top;\n",
       "    }\n",
       "\n",
       "    .dataframe thead th {\n",
       "        text-align: right;\n",
       "    }\n",
       "</style>\n",
       "<table border=\"1\" class=\"dataframe\">\n",
       "  <thead>\n",
       "    <tr style=\"text-align: right;\">\n",
       "      <th></th>\n",
       "      <th>total_ppl</th>\n",
       "      <th>square_foot</th>\n",
       "      <th>household_income</th>\n",
       "      <th>number_pets</th>\n",
       "      <th>entertainment_spend_est</th>\n",
       "      <th>travel_spend_est</th>\n",
       "      <th>under_12</th>\n",
       "    </tr>\n",
       "  </thead>\n",
       "  <tbody>\n",
       "    <tr>\n",
       "      <th>0</th>\n",
       "      <td>3</td>\n",
       "      <td>3309</td>\n",
       "      <td>80464</td>\n",
       "      <td>1</td>\n",
       "      <td>2535</td>\n",
       "      <td>2842</td>\n",
       "      <td>1</td>\n",
       "    </tr>\n",
       "    <tr>\n",
       "      <th>1</th>\n",
       "      <td>3</td>\n",
       "      <td>3814</td>\n",
       "      <td>47696</td>\n",
       "      <td>2</td>\n",
       "      <td>2913</td>\n",
       "      <td>3938</td>\n",
       "      <td>1</td>\n",
       "    </tr>\n",
       "    <tr>\n",
       "      <th>2</th>\n",
       "      <td>3</td>\n",
       "      <td>2592</td>\n",
       "      <td>108256</td>\n",
       "      <td>2</td>\n",
       "      <td>1986</td>\n",
       "      <td>3687</td>\n",
       "      <td>2</td>\n",
       "    </tr>\n",
       "    <tr>\n",
       "      <th>3</th>\n",
       "      <td>2</td>\n",
       "      <td>2628</td>\n",
       "      <td>68064</td>\n",
       "      <td>1</td>\n",
       "      <td>2505</td>\n",
       "      <td>2826</td>\n",
       "      <td>1</td>\n",
       "    </tr>\n",
       "    <tr>\n",
       "      <th>4</th>\n",
       "      <td>3</td>\n",
       "      <td>2442</td>\n",
       "      <td>62786</td>\n",
       "      <td>2</td>\n",
       "      <td>3541</td>\n",
       "      <td>1344</td>\n",
       "      <td>2</td>\n",
       "    </tr>\n",
       "  </tbody>\n",
       "</table>\n",
       "</div>"
      ],
      "text/plain": [
       "   total_ppl  square_foot  household_income  number_pets  \\\n",
       "0          3         3309             80464            1   \n",
       "1          3         3814             47696            2   \n",
       "2          3         2592            108256            2   \n",
       "3          2         2628             68064            1   \n",
       "4          3         2442             62786            2   \n",
       "\n",
       "   entertainment_spend_est  travel_spend_est  under_12  \n",
       "0                     2535              2842         1  \n",
       "1                     2913              3938         1  \n",
       "2                     1986              3687         2  \n",
       "3                     2505              2826         1  \n",
       "4                     3541              1344         2  "
      ]
     },
     "execution_count": 5,
     "metadata": {},
     "output_type": "execute_result"
    }
   ],
   "source": [
    "Portlandfamilies = Portlandfamilies.drop(columns=[\"own_rent\",\"county\",\"LL_passholder\",\"householdID\"])\n",
    "Portlandfamilies.head()"
   ]
  },
  {
   "cell_type": "markdown",
   "metadata": {},
   "source": [
    "<i> Standardizing the variables helps in establishing a common scale to measure the different variables. Since the range and units of our variables is different, they need to be normalized. This allows for direct comparison between the different variables and helps analyse the clustering models in an better manner."
   ]
  },
  {
   "cell_type": "code",
   "execution_count": 23,
   "metadata": {},
   "outputs": [],
   "source": [
    "from sklearn.preprocessing import StandardScaler \n",
    "\n",
    "data_scaling = StandardScaler()\n",
    "data_scaling.fit(Portlandfamilies)\n",
    "\n",
    "Portlandfamilies_normalize = data_scaling.transform(Portlandfamilies)\n",
    "Portlandfamilies_normalize = pd.DataFrame(data = Portlandfamilies_normalize, index = Portlandfamilies.index , columns = Portlandfamilies.columns)\n",
    "#print(Portlandfamilies_normalize.describe().round(2))"
   ]
  },
  {
   "cell_type": "code",
   "execution_count": 30,
   "metadata": {},
   "outputs": [
    {
     "data": {
      "text/html": [
       "<div>\n",
       "<style scoped>\n",
       "    .dataframe tbody tr th:only-of-type {\n",
       "        vertical-align: middle;\n",
       "    }\n",
       "\n",
       "    .dataframe tbody tr th {\n",
       "        vertical-align: top;\n",
       "    }\n",
       "\n",
       "    .dataframe thead th {\n",
       "        text-align: right;\n",
       "    }\n",
       "</style>\n",
       "<table border=\"1\" class=\"dataframe\">\n",
       "  <thead>\n",
       "    <tr style=\"text-align: right;\">\n",
       "      <th></th>\n",
       "      <th>total_ppl</th>\n",
       "      <th>square_foot</th>\n",
       "      <th>household_income</th>\n",
       "      <th>number_pets</th>\n",
       "      <th>entertainment_spend_est</th>\n",
       "      <th>travel_spend_est</th>\n",
       "      <th>under_12</th>\n",
       "    </tr>\n",
       "  </thead>\n",
       "  <tbody>\n",
       "    <tr>\n",
       "      <th>0</th>\n",
       "      <td>-0.145886</td>\n",
       "      <td>0.232960</td>\n",
       "      <td>0.421607</td>\n",
       "      <td>-0.644446</td>\n",
       "      <td>-0.152014</td>\n",
       "      <td>-1.190688</td>\n",
       "      <td>-1.047109</td>\n",
       "    </tr>\n",
       "    <tr>\n",
       "      <th>1</th>\n",
       "      <td>-0.145886</td>\n",
       "      <td>0.851909</td>\n",
       "      <td>-1.325289</td>\n",
       "      <td>0.621159</td>\n",
       "      <td>0.341153</td>\n",
       "      <td>0.636601</td>\n",
       "      <td>-1.047109</td>\n",
       "    </tr>\n",
       "    <tr>\n",
       "      <th>2</th>\n",
       "      <td>-0.145886</td>\n",
       "      <td>-0.645826</td>\n",
       "      <td>1.903227</td>\n",
       "      <td>0.621159</td>\n",
       "      <td>-0.868282</td>\n",
       "      <td>0.218125</td>\n",
       "      <td>0.318923</td>\n",
       "    </tr>\n",
       "    <tr>\n",
       "      <th>3</th>\n",
       "      <td>-1.267513</td>\n",
       "      <td>-0.601703</td>\n",
       "      <td>-0.239450</td>\n",
       "      <td>-0.644446</td>\n",
       "      <td>-0.191155</td>\n",
       "      <td>-1.217364</td>\n",
       "      <td>-1.047109</td>\n",
       "    </tr>\n",
       "    <tr>\n",
       "      <th>4</th>\n",
       "      <td>-0.145886</td>\n",
       "      <td>-0.829672</td>\n",
       "      <td>-0.520825</td>\n",
       "      <td>0.621159</td>\n",
       "      <td>1.160490</td>\n",
       "      <td>-3.688205</td>\n",
       "      <td>0.318923</td>\n",
       "    </tr>\n",
       "  </tbody>\n",
       "</table>\n",
       "</div>"
      ],
      "text/plain": [
       "   total_ppl  square_foot  household_income  number_pets  \\\n",
       "0  -0.145886     0.232960          0.421607    -0.644446   \n",
       "1  -0.145886     0.851909         -1.325289     0.621159   \n",
       "2  -0.145886    -0.645826          1.903227     0.621159   \n",
       "3  -1.267513    -0.601703         -0.239450    -0.644446   \n",
       "4  -0.145886    -0.829672         -0.520825     0.621159   \n",
       "\n",
       "   entertainment_spend_est  travel_spend_est  under_12  \n",
       "0                -0.152014         -1.190688 -1.047109  \n",
       "1                 0.341153          0.636601 -1.047109  \n",
       "2                -0.868282          0.218125  0.318923  \n",
       "3                -0.191155         -1.217364 -1.047109  \n",
       "4                 1.160490         -3.688205  0.318923  "
      ]
     },
     "execution_count": 30,
     "metadata": {},
     "output_type": "execute_result"
    }
   ],
   "source": [
    "from scipy.stats import zscore\n",
    "\n",
    "Portlandfamilies1 = Portlandfamilies.apply(zscore)\n",
    "Portlandfamilies1.head()"
   ]
  },
  {
   "cell_type": "markdown",
   "metadata": {},
   "source": [
    "<b> Elbow method "
   ]
  },
  {
   "cell_type": "code",
   "execution_count": 25,
   "metadata": {},
   "outputs": [
    {
     "data": {
      "image/png": "[encoded data removed]",
      "text/plain": [
       "<Figure size 1152x576 with 1 Axes>"
      ]
     },
     "metadata": {
      "needs_background": "light"
     },
     "output_type": "display_data"
    }
   ],
   "source": [
    "from sklearn.cluster import KMeans\n",
    "\n",
    "sse = {}\n",
    "for k in range(1, 10):\n",
    "    kmeans = KMeans(n_clusters=k, random_state=500)\n",
    "    kmeans.fit(Portlandfamilies1)\n",
    "    sse[k] = kmeans.inertia_\n",
    "    \n",
    "    \n",
    "plt.figure(figsize=(16,8))\n",
    "plt.title('The Elbow Method for optimal k')\n",
    "plt.xlabel('k')\n",
    "plt.ylabel('SSE')\n",
    "sns.pointplot(x=list(sse.keys()), y=list(sse.values()));"
   ]
  },
  {
   "cell_type": "markdown",
   "metadata": {},
   "source": [
    "<i><b> Optimal number of clusters chosen : 5 clusters </b> <br>\n",
    "    On the basis of the elbow method used above, we feel that 5 is the optimal number of clusters that should be used because after this point the distortion starts declining in a linear fashion. The \"elbow\" is based on the reducing the sum of squared differences to a point wherein analyzing becomes easier but selecting too many clusters will reduce the accuracy of the analysis drawn. I have also used the experimentation method to use how the statistics vary in terms of changes in the number of clusters. "
   ]
  },
  {
   "cell_type": "markdown",
   "metadata": {},
   "source": [
    "<i>K-means clustering has been used. The K-means algorithm identifies k number of centroids, and then allocates every data point to the nearest cluster, while keeping the centroids as small as possible. A cluster refers to a collection of data points aggregated together because of certain similarities. Common characteristics of all those within a cluster help in better targeting, and reduce marketing costs and efficient use of resources. "
   ]
  },
  {
   "cell_type": "code",
   "execution_count": 33,
   "metadata": {},
   "outputs": [
    {
     "data": {
      "text/html": [
       "<div>\n",
       "<style scoped>\n",
       "    .dataframe tbody tr th:only-of-type {\n",
       "        vertical-align: middle;\n",
       "    }\n",
       "\n",
       "    .dataframe tbody tr th {\n",
       "        vertical-align: top;\n",
       "    }\n",
       "\n",
       "    .dataframe thead tr th {\n",
       "        text-align: left;\n",
       "    }\n",
       "\n",
       "    .dataframe thead tr:last-of-type th {\n",
       "        text-align: right;\n",
       "    }\n",
       "</style>\n",
       "<table border=\"1\" class=\"dataframe\">\n",
       "  <thead>\n",
       "    <tr>\n",
       "      <th></th>\n",
       "      <th>total_ppl</th>\n",
       "      <th>square_foot</th>\n",
       "      <th>household_income</th>\n",
       "      <th>number_pets</th>\n",
       "      <th>entertainment_spend_est</th>\n",
       "      <th colspan=\"2\" halign=\"left\">travel_spend_est</th>\n",
       "      <th>under_12</th>\n",
       "    </tr>\n",
       "    <tr>\n",
       "      <th></th>\n",
       "      <th>mean</th>\n",
       "      <th>mean</th>\n",
       "      <th>mean</th>\n",
       "      <th>mean</th>\n",
       "      <th>mean</th>\n",
       "      <th>mean</th>\n",
       "      <th>count</th>\n",
       "      <th>mean</th>\n",
       "    </tr>\n",
       "    <tr>\n",
       "      <th>Cluster</th>\n",
       "      <th></th>\n",
       "      <th></th>\n",
       "      <th></th>\n",
       "      <th></th>\n",
       "      <th></th>\n",
       "      <th></th>\n",
       "      <th></th>\n",
       "      <th></th>\n",
       "    </tr>\n",
       "  </thead>\n",
       "  <tbody>\n",
       "    <tr>\n",
       "      <th>0</th>\n",
       "      <td>2.83</td>\n",
       "      <td>2541.45</td>\n",
       "      <td>58474.58</td>\n",
       "      <td>1.48</td>\n",
       "      <td>3031.40</td>\n",
       "      <td>3117.24</td>\n",
       "      <td>3045</td>\n",
       "      <td>1.58</td>\n",
       "    </tr>\n",
       "    <tr>\n",
       "      <th>1</th>\n",
       "      <td>2.75</td>\n",
       "      <td>2631.27</td>\n",
       "      <td>82767.32</td>\n",
       "      <td>1.50</td>\n",
       "      <td>1998.70</td>\n",
       "      <td>3327.19</td>\n",
       "      <td>3047</td>\n",
       "      <td>1.54</td>\n",
       "    </tr>\n",
       "    <tr>\n",
       "      <th>2</th>\n",
       "      <td>2.93</td>\n",
       "      <td>3731.39</td>\n",
       "      <td>73901.24</td>\n",
       "      <td>2.28</td>\n",
       "      <td>2754.62</td>\n",
       "      <td>3911.94</td>\n",
       "      <td>3099</td>\n",
       "      <td>1.69</td>\n",
       "    </tr>\n",
       "    <tr>\n",
       "      <th>3</th>\n",
       "      <td>2.95</td>\n",
       "      <td>3714.48</td>\n",
       "      <td>74756.14</td>\n",
       "      <td>0.75</td>\n",
       "      <td>2817.11</td>\n",
       "      <td>3941.93</td>\n",
       "      <td>3004</td>\n",
       "      <td>1.67</td>\n",
       "    </tr>\n",
       "    <tr>\n",
       "      <th>4</th>\n",
       "      <td>4.28</td>\n",
       "      <td>2961.08</td>\n",
       "      <td>72905.14</td>\n",
       "      <td>1.51</td>\n",
       "      <td>2657.01</td>\n",
       "      <td>3475.20</td>\n",
       "      <td>2805</td>\n",
       "      <td>2.42</td>\n",
       "    </tr>\n",
       "  </tbody>\n",
       "</table>\n",
       "</div>"
      ],
      "text/plain": [
       "        total_ppl square_foot household_income number_pets  \\\n",
       "             mean        mean             mean        mean   \n",
       "Cluster                                                      \n",
       "0            2.83     2541.45         58474.58        1.48   \n",
       "1            2.75     2631.27         82767.32        1.50   \n",
       "2            2.93     3731.39         73901.24        2.28   \n",
       "3            2.95     3714.48         74756.14        0.75   \n",
       "4            4.28     2961.08         72905.14        1.51   \n",
       "\n",
       "        entertainment_spend_est travel_spend_est       under_12  \n",
       "                           mean             mean count     mean  \n",
       "Cluster                                                          \n",
       "0                       3031.40          3117.24  3045     1.58  \n",
       "1                       1998.70          3327.19  3047     1.54  \n",
       "2                       2754.62          3911.94  3099     1.69  \n",
       "3                       2817.11          3941.93  3004     1.67  \n",
       "4                       2657.01          3475.20  2805     2.42  "
      ]
     },
     "execution_count": 33,
     "metadata": {},
     "output_type": "execute_result"
    }
   ],
   "source": [
    "from sklearn.cluster import KMeans\n",
    "\n",
    "kmeans_model = KMeans(n_clusters = 5, random_state = 500)\n",
    "kmeans_model.fit(Portlandfamilies_normalize)\n",
    "cluster_labels = kmeans_model.labels_\n",
    "\n",
    "\n",
    "Portlandfamilies1_cluster = Portlandfamilies.assign(Cluster = cluster_labels)\n",
    "grouped = Portlandfamilies1_cluster.groupby(['Cluster'])\n",
    "\n",
    "grouped.agg({\n",
    "'total_ppl' : 'mean', \n",
    "'square_foot': 'mean',\n",
    "'household_income' : 'mean',\n",
    "'number_pets' : 'mean',\n",
    "'entertainment_spend_est' : 'mean',\n",
    "'travel_spend_est' : ['mean','count'],\n",
    "'under_12' : 'mean'}).round(2)"
   ]
  },
  {
   "cell_type": "code",
   "execution_count": 45,
   "metadata": {},
   "outputs": [
    {
     "data": {
      "text/plain": [
       "Index(['total_ppl', 'square_foot', 'household_income', 'number_pets',\n",
       "       'entertainment_spend_est', 'travel_spend_est', 'under_12', 'Cluster'],\n",
       "      dtype='object')"
      ]
     },
     "execution_count": 45,
     "metadata": {},
     "output_type": "execute_result"
    }
   ],
   "source": [
    "Portlandfamilies1_cluster.columns"
   ]
  },
  {
   "cell_type": "code",
   "execution_count": 35,
   "metadata": {},
   "outputs": [
    {
     "data": {
      "text/plain": [
       "<matplotlib.axes._subplots.AxesSubplot at 0x7fa9239670d0>"
      ]
     },
     "execution_count": 35,
     "metadata": {},
     "output_type": "execute_result"
    },
    {
     "data": {
      "image/png": "[encoded data removed]",
      "text/plain": [
       "<Figure size 432x288 with 1 Axes>"
      ]
     },
     "metadata": {
      "needs_background": "light"
     },
     "output_type": "display_data"
    }
   ],
   "source": [
    "sns.barplot(data = Portlandfamilies1_cluster, x = 'Cluster', y = 'entertainment_spend_est', ci = None)"
   ]
  },
  {
   "cell_type": "markdown",
   "metadata": {},
   "source": [
    "<i> As can be seen, Cluster 0 spends the maximum on entertainment, followed by cluster 3. Cluster 1 spends the least on entertainment."
   ]
  },
  {
   "cell_type": "code",
   "execution_count": 36,
   "metadata": {},
   "outputs": [
    {
     "data": {
      "text/plain": [
       "<matplotlib.axes._subplots.AxesSubplot at 0x7fa9238c8790>"
      ]
     },
     "execution_count": 36,
     "metadata": {},
     "output_type": "execute_result"
    },
    {
     "data": {
      "image/png": "[encoded data removed]",
      "text/plain": [
       "<Figure size 432x288 with 1 Axes>"
      ]
     },
     "metadata": {
      "needs_background": "light"
     },
     "output_type": "display_data"
    }
   ],
   "source": [
    "sns.barplot(data = Portlandfamilies1_cluster, x = 'Cluster', y = 'under_12', ci = None)"
   ]
  },
  {
   "cell_type": "markdown",
   "metadata": {},
   "source": [
    "<i> There is a huge difference here as cluster 4 consists of a large number of childrne undre the age of 12 years, whereas the other clusters consist of a comparable less number of children under 12 years of age"
   ]
  },
  {
   "cell_type": "code",
   "execution_count": 37,
   "metadata": {},
   "outputs": [
    {
     "data": {
      "image/png": "[encoded data removed]",
      "text/plain": [
       "<Figure size 432x288 with 1 Axes>"
      ]
     },
     "metadata": {
      "needs_background": "light"
     },
     "output_type": "display_data"
    }
   ],
   "source": [
    "sns.boxplot(x= \"Cluster\", y=\"travel_spend_est\", data=Portlandfamilies1_cluster, palette = \"muted\").set_title('Expenditure on travel by clusters');"
   ]
  },
  {
   "cell_type": "markdown",
   "metadata": {},
   "source": [
    "<i> The boxplot shows that the median expenditure on travel by cluster 3 is the highest, followed by cluster 2. Cluster 0 and cluster 1 have the maximum outliers showing great variation. Cluster 0 has the least median expenditure on traveling."
   ]
  },
  {
   "cell_type": "code",
   "execution_count": 54,
   "metadata": {},
   "outputs": [
    {
     "data": {
      "text/plain": [
       "<matplotlib.axes._subplots.AxesSubplot at 0x7fa8f470af40>"
      ]
     },
     "execution_count": 54,
     "metadata": {},
     "output_type": "execute_result"
    },
    {
     "data": {
      "image/png": "[encoded data removed]",
      "text/plain": [
       "<Figure size 432x288 with 1 Axes>"
      ]
     },
     "metadata": {
      "needs_background": "light"
     },
     "output_type": "display_data"
    }
   ],
   "source": [
    "sns.boxplot(x=\"Cluster\", y=\"number_pets\", palette=\"Set3\",data=Portlandfamilies1_cluster)"
   ]
  },
  {
   "cell_type": "markdown",
   "metadata": {},
   "source": [
    "<i> Cluster 2 has the largest number of pets while cluster 3 is the least popular for pets. Other three clusters have almost equal affinity towards pets. "
   ]
  },
  {
   "cell_type": "code",
   "execution_count": 44,
   "metadata": {},
   "outputs": [
    {
     "data": {
      "text/plain": [
       "Text(0.5, 1.0, 'Plot of Household_income with Entertainmain cost')"
      ]
     },
     "execution_count": 44,
     "metadata": {},
     "output_type": "execute_result"
    },
    {
     "data": {
      "image/png": "[encoded data removed]",
      "text/plain": [
       "<Figure size 432x288 with 1 Axes>"
      ]
     },
     "metadata": {
      "needs_background": "light"
     },
     "output_type": "display_data"
    }
   ],
   "source": [
    "x = Portlandfamilies1_cluster['household_income']\n",
    "y = Portlandfamilies1_cluster['entertainment_spend_est']\n",
    "\n",
    "plt.scatter(x,y,color=\"green\")\n",
    "plt.xlabel(\"Household_income\")\n",
    "plt.ylabel(\"Entertainment cost\")\n",
    "plt.title(\"Plot of Household_income with Entertainmain cost\")"
   ]
  },
  {
   "cell_type": "markdown",
   "metadata": {},
   "source": [
    "<i> The plot shows the household income along with the expenditure on entertainment. It can be seen how due to the large number of families earning between 50000 dollars to 90000 dollars, it is the most concentrated area. It starts getting distorted at the ends due to lesse number of families and hence less expenditure. "
   ]
  },
  {
   "cell_type": "code",
   "execution_count": 42,
   "metadata": {},
   "outputs": [
    {
     "data": {
      "text/plain": [
       "<matplotlib.axes._subplots.AxesSubplot at 0x7fa924fba520>"
      ]
     },
     "execution_count": 42,
     "metadata": {},
     "output_type": "execute_result"
    },
    {
     "data": {
      "image/png": "[encoded data removed]",
      "text/plain": [
       "<Figure size 432x288 with 1 Axes>"
      ]
     },
     "metadata": {
      "needs_background": "light"
     },
     "output_type": "display_data"
    }
   ],
   "source": [
    "sns.distplot(Portlandfamilies1_cluster.household_income,rug=True,kde=False,bins=25)"
   ]
  },
  {
   "cell_type": "markdown",
   "metadata": {},
   "source": [
    "<i>The plot above shows how the largest number of families in Portland have a household income of around 60000 to 80000 dollars. The range of household income is between 30000 dollars to 120000 dollars. There is an increasing trend amngst number of families as we go from 30000 dollars to 80000 dollars of household income, and then it gradually keeps decreasing. "
   ]
  },
  {
   "cell_type": "code",
   "execution_count": 40,
   "metadata": {},
   "outputs": [
    {
     "data": {
      "text/html": [
       "<div>\n",
       "<style scoped>\n",
       "    .dataframe tbody tr th:only-of-type {\n",
       "        vertical-align: middle;\n",
       "    }\n",
       "\n",
       "    .dataframe tbody tr th {\n",
       "        vertical-align: top;\n",
       "    }\n",
       "\n",
       "    .dataframe thead th {\n",
       "        text-align: right;\n",
       "    }\n",
       "</style>\n",
       "<table border=\"1\" class=\"dataframe\">\n",
       "  <thead>\n",
       "    <tr style=\"text-align: right;\">\n",
       "      <th></th>\n",
       "      <th>total_ppl</th>\n",
       "      <th>square_foot</th>\n",
       "      <th>household_income</th>\n",
       "      <th>number_pets</th>\n",
       "      <th>entertainment_spend_est</th>\n",
       "      <th>travel_spend_est</th>\n",
       "      <th>under_12</th>\n",
       "    </tr>\n",
       "    <tr>\n",
       "      <th>Cluster</th>\n",
       "      <th></th>\n",
       "      <th></th>\n",
       "      <th></th>\n",
       "      <th></th>\n",
       "      <th></th>\n",
       "      <th></th>\n",
       "      <th></th>\n",
       "    </tr>\n",
       "  </thead>\n",
       "  <tbody>\n",
       "    <tr>\n",
       "      <th>0</th>\n",
       "      <td>2.83</td>\n",
       "      <td>2541.45</td>\n",
       "      <td>58474.58</td>\n",
       "      <td>1.48</td>\n",
       "      <td>3031.40</td>\n",
       "      <td>3117.24</td>\n",
       "      <td>1.58</td>\n",
       "    </tr>\n",
       "    <tr>\n",
       "      <th>1</th>\n",
       "      <td>2.75</td>\n",
       "      <td>2631.27</td>\n",
       "      <td>82767.32</td>\n",
       "      <td>1.50</td>\n",
       "      <td>1998.70</td>\n",
       "      <td>3327.19</td>\n",
       "      <td>1.54</td>\n",
       "    </tr>\n",
       "    <tr>\n",
       "      <th>2</th>\n",
       "      <td>2.93</td>\n",
       "      <td>3731.39</td>\n",
       "      <td>73901.24</td>\n",
       "      <td>2.28</td>\n",
       "      <td>2754.62</td>\n",
       "      <td>3911.94</td>\n",
       "      <td>1.69</td>\n",
       "    </tr>\n",
       "    <tr>\n",
       "      <th>3</th>\n",
       "      <td>2.95</td>\n",
       "      <td>3714.48</td>\n",
       "      <td>74756.14</td>\n",
       "      <td>0.75</td>\n",
       "      <td>2817.11</td>\n",
       "      <td>3941.93</td>\n",
       "      <td>1.67</td>\n",
       "    </tr>\n",
       "    <tr>\n",
       "      <th>4</th>\n",
       "      <td>4.28</td>\n",
       "      <td>2961.08</td>\n",
       "      <td>72905.14</td>\n",
       "      <td>1.51</td>\n",
       "      <td>2657.01</td>\n",
       "      <td>3475.20</td>\n",
       "      <td>2.42</td>\n",
       "    </tr>\n",
       "  </tbody>\n",
       "</table>\n",
       "</div>"
      ],
      "text/plain": [
       "         total_ppl  square_foot  household_income  number_pets  \\\n",
       "Cluster                                                          \n",
       "0             2.83      2541.45          58474.58         1.48   \n",
       "1             2.75      2631.27          82767.32         1.50   \n",
       "2             2.93      3731.39          73901.24         2.28   \n",
       "3             2.95      3714.48          74756.14         0.75   \n",
       "4             4.28      2961.08          72905.14         1.51   \n",
       "\n",
       "         entertainment_spend_est  travel_spend_est  under_12  \n",
       "Cluster                                                       \n",
       "0                        3031.40           3117.24      1.58  \n",
       "1                        1998.70           3327.19      1.54  \n",
       "2                        2754.62           3911.94      1.69  \n",
       "3                        2817.11           3941.93      1.67  \n",
       "4                        2657.01           3475.20      2.42  "
      ]
     },
     "execution_count": 40,
     "metadata": {},
     "output_type": "execute_result"
    }
   ],
   "source": [
    "Portlandfamilies1_cluster.groupby(['Cluster']).agg({\n",
    "'total_ppl': 'mean',\n",
    "'square_foot': 'mean',\n",
    "'household_income': 'mean',\n",
    "'number_pets': 'mean',\n",
    "'entertainment_spend_est': 'mean',\n",
    "'travel_spend_est': 'mean',\n",
    "'under_12': 'mean'\n",
    "}).round(2)"
   ]
  },
  {
   "cell_type": "markdown",
   "metadata": {},
   "source": [
    "<i> Cluster[0] = Looking for entertainment<br>\n",
    "Cluster[1]=  Small, wealthy families<br>\n",
    "Cluster[2] = Luxurious Lives<br>\n",
    "Cluster[3]=  All about Travel<br>\n",
    "Cluster[4]=  It's family time<br>"
   ]
  },
  {
   "cell_type": "markdown",
   "metadata": {},
   "source": [
    "<i> Cluster (0) <b> - Looking for entertainment!</b> : This cluster consists of people with the least household income, but spend the highest on entertainment. They do not spend on travelling as much though. They also have the least residential area in terms of square feet. The cluster doesn't have a large number of children below the age of 12 years, and an average number of pets as compared to other clusters. "
   ]
  },
  {
   "cell_type": "markdown",
   "metadata": {},
   "source": [
    "<i> Cluster (1)- <b> Small, Wealthy families! </b> : This cluster consists of families that are richest amongst all other families. The family size is small, with very few children under the age if 12 years. It is interesting to see that even though they're the wealthiest amongst the sample chosen, they have spent the least on entertainment and travel. They do not seem like families who are outging. "
   ]
  },
  {
   "cell_type": "markdown",
   "metadata": {},
   "source": [
    "<i> Cluster (2) - <b> Luxurious Lives  </b> : The cluster is characterized by families having high incomes, big houses, children under the age of 12 years and are moderately sized families. Pets are the most common amongst this cluster when compared to others. They spend a big amount on traveling annually, and a considerable amount on entertainment too."
   ]
  },
  {
   "cell_type": "markdown",
   "metadata": {},
   "source": [
    "<i> Cluster (3) - <b> All about travel </b> : These are families who earn considerably well, own big houses and love spending on both travel and entertainment. Pets however are not popular amongst this cluster. Many of these have kids under the age of 12 years too. "
   ]
  },
  {
   "cell_type": "markdown",
   "metadata": {},
   "source": [
    "<i> Cluster (4) - <b> It's Family Time! </b> - The cluster consists of large families, that have kids under the age of 12 years and also own pets. They spend a moderate amount on entertainment and travel and also learn a considerable amount. These families seem to enjoy lobster land as a getaway with each other. "
   ]
  },
  {
   "cell_type": "markdown",
   "metadata": {},
   "source": [
    "<h3> Targeting based on Clusters </h3> <br>\n",
    "<i> The families belonging to the cluster \"Looking for entertainment\" must be provided with coupons or deals related to Goldzone and other Lobster Land rides as they do tend to spend on entertainment but have low incomes. Hence, the segment can be enticed by lower prices. Especially, in the Covid times when Lobster Land's business is affected amd needs more crowd, this segment can be capitalized upon by providing discounts to them. <br> <br>\n",
    "    Major marketing efforts must not be focused on the cluster \"Small, Wealthy families\" as they do have the monetary resources, but do not tend to spend on entertainment. Since the income is very high compared to other clusters, they do not seem to be a price sensitive segment. One marketing startegy for this segment could be to provide them with a complete getaway pass - wherein they can book private access slots to Goldzone, meals at 4-star resturants and priority access to rides. <br> <br>\n",
    "    Marketing initiatives must be focused on this segment. Frequent customised emails and messages msut be sent to these families to remind them of Lobster Land as they do have high incomes and spend well too. They just need to be encouraged to visit more often. Also, this segment can be enticed by inviting them for pet-friendly activities and events. Secondly, one marketing strategy could be to provide them with a premium membership which would provide them with a package including overnight stay at a neraby 4-star hotel with all ameneties, top restaurants and all day express (priority) access to lobster Land rides and activities. <br> <br>\n",
    "    In order to attract the cluster \"All about Travel\", coupons can be sent to this segment which provides them with discounts at places which Lobster land has tie-ups with, since this segment loves traveling. They must also be sent customized messages informing them about events conducted for kids. <br> <br>\n",
    "    The cluster \"It's family Time\" is all about spending time with families. Since they have a large number of children under the age of 12 years, they must be sent specialized messages/emails informing them about events and activties for kids, such as winter Wonderland. Also, over if they are a group of more than 4 people, they would be given 10% discount on goldzone pass and rides and free access to pet-friendly areas. "
   ]
  }
 ],
 "metadata": {
  "kernelspec": {
   "display_name": "Python 3",
   "language": "python",
   "name": "python3"
  },
  "language_info": {
   "codemirror_mode": {
    "name": "ipython",
    "version": 3
   },
   "file_extension": ".py",
   "mimetype": "text/x-python",
   "name": "python",
   "nbconvert_exporter": "python",
   "pygments_lexer": "ipython3",
   "version": "3.7.4"
  }
 },
 "nbformat": 4,
 "nbformat_minor": 4
}

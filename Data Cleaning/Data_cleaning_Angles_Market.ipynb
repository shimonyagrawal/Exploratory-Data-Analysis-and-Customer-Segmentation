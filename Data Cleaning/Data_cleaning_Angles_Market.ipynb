{
 "cells": [
  {
   "cell_type": "code",
   "execution_count": 22,
   "metadata": {},
   "outputs": [
    {
     "data": {
      "text/html": [
       "<div>\n",
       "<style scoped>\n",
       "    .dataframe tbody tr th:only-of-type {\n",
       "        vertical-align: middle;\n",
       "    }\n",
       "\n",
       "    .dataframe tbody tr th {\n",
       "        vertical-align: top;\n",
       "    }\n",
       "\n",
       "    .dataframe thead th {\n",
       "        text-align: right;\n",
       "    }\n",
       "</style>\n",
       "<table border=\"1\" class=\"dataframe\">\n",
       "  <thead>\n",
       "    <tr style=\"text-align: right;\">\n",
       "      <th></th>\n",
       "      <th>vendorID</th>\n",
       "      <th>theme</th>\n",
       "      <th>homeState</th>\n",
       "      <th>carnivals</th>\n",
       "      <th>complaints</th>\n",
       "      <th>est_energy</th>\n",
       "      <th>est_hourly_vol</th>\n",
       "      <th>LL_passholder</th>\n",
       "      <th>est_hourly_gross</th>\n",
       "    </tr>\n",
       "  </thead>\n",
       "  <tbody>\n",
       "    <tr>\n",
       "      <th>0</th>\n",
       "      <td>1</td>\n",
       "      <td>Hot Chocolate/Warm Treats</td>\n",
       "      <td>Maine</td>\n",
       "      <td>3</td>\n",
       "      <td>9</td>\n",
       "      <td>57.291961</td>\n",
       "      <td>118</td>\n",
       "      <td>0</td>\n",
       "      <td>217.93</td>\n",
       "    </tr>\n",
       "    <tr>\n",
       "      <th>1</th>\n",
       "      <td>2</td>\n",
       "      <td>Local Artists</td>\n",
       "      <td>Vermont</td>\n",
       "      <td>1</td>\n",
       "      <td>2</td>\n",
       "      <td>39.404898</td>\n",
       "      <td>105</td>\n",
       "      <td>1</td>\n",
       "      <td>209.51</td>\n",
       "    </tr>\n",
       "    <tr>\n",
       "      <th>2</th>\n",
       "      <td>3</td>\n",
       "      <td>Fortune Teller</td>\n",
       "      <td>New Hampshire</td>\n",
       "      <td>5</td>\n",
       "      <td>4</td>\n",
       "      <td>47.175958</td>\n",
       "      <td>94</td>\n",
       "      <td>0</td>\n",
       "      <td>200.68</td>\n",
       "    </tr>\n",
       "    <tr>\n",
       "      <th>3</th>\n",
       "      <td>4</td>\n",
       "      <td>Fried Dough and Pizza</td>\n",
       "      <td>Maine</td>\n",
       "      <td>8</td>\n",
       "      <td>0</td>\n",
       "      <td>58.192568</td>\n",
       "      <td>118</td>\n",
       "      <td>0</td>\n",
       "      <td>251.40</td>\n",
       "    </tr>\n",
       "    <tr>\n",
       "      <th>4</th>\n",
       "      <td>5</td>\n",
       "      <td>craft beer</td>\n",
       "      <td>New Hampshire</td>\n",
       "      <td>7</td>\n",
       "      <td>6</td>\n",
       "      <td>56.657908</td>\n",
       "      <td>102</td>\n",
       "      <td>0</td>\n",
       "      <td>168.76</td>\n",
       "    </tr>\n",
       "  </tbody>\n",
       "</table>\n",
       "</div>"
      ],
      "text/plain": [
       "   vendorID                      theme      homeState  carnivals  complaints  \\\n",
       "0         1  Hot Chocolate/Warm Treats          Maine          3           9   \n",
       "1         2              Local Artists        Vermont          1           2   \n",
       "2         3             Fortune Teller  New Hampshire          5           4   \n",
       "3         4      Fried Dough and Pizza          Maine          8           0   \n",
       "4         5                 craft beer  New Hampshire          7           6   \n",
       "\n",
       "   est_energy  est_hourly_vol  LL_passholder  est_hourly_gross  \n",
       "0   57.291961             118              0            217.93  \n",
       "1   39.404898             105              1            209.51  \n",
       "2   47.175958              94              0            200.68  \n",
       "3   58.192568             118              0            251.40  \n",
       "4   56.657908             102              0            168.76  "
      ]
     },
     "execution_count": 22,
     "metadata": {},
     "output_type": "execute_result"
    }
   ],
   "source": [
    "import pandas as pd\n",
    "import numpy as np\n",
    "import seaborn as sns\n",
    "Angel_market = pd.read_csv(\"angels_market.csv\")\n",
    "Angel_market.head()"
   ]
  },
  {
   "cell_type": "markdown",
   "metadata": {},
   "source": [
    "Removing the data which are not required. i.e. the rows where state value is integer and it doesn't make sense."
   ]
  },
  {
   "cell_type": "code",
   "execution_count": 32,
   "metadata": {},
   "outputs": [],
   "source": [
    "Possible_state = ['Maine','Vermont','New Hampshire','Quebec','Connecticut','Massachusetts','Ontario']"
   ]
  },
  {
   "cell_type": "code",
   "execution_count": 33,
   "metadata": {},
   "outputs": [],
   "source": [
    "Angel_market = Angel_market[Angel_market.homeState.isin(Possible_state)]"
   ]
  },
  {
   "cell_type": "code",
   "execution_count": 34,
   "metadata": {},
   "outputs": [
    {
     "data": {
      "text/plain": [
       "Index(['vendorID', 'theme', 'homeState', 'carnivals', 'complaints',\n",
       "       'est_energy', 'est_hourly_vol', 'LL_passholder', 'est_hourly_gross'],\n",
       "      dtype='object')"
      ]
     },
     "execution_count": 34,
     "metadata": {},
     "output_type": "execute_result"
    }
   ],
   "source": [
    "Angel_market.columns"
   ]
  },
  {
   "cell_type": "markdown",
   "metadata": {},
   "source": [
    "We will remove the vendor ID column as this may not be required in the data visualization and analysis."
   ]
  },
  {
   "cell_type": "code",
   "execution_count": 35,
   "metadata": {},
   "outputs": [],
   "source": [
    "Angel_market = Angel_market.drop('vendorID',1)"
   ]
  },
  {
   "cell_type": "code",
   "execution_count": 36,
   "metadata": {},
   "outputs": [
    {
     "data": {
      "text/plain": [
       "Index(['theme', 'homeState', 'carnivals', 'complaints', 'est_energy',\n",
       "       'est_hourly_vol', 'LL_passholder', 'est_hourly_gross'],\n",
       "      dtype='object')"
      ]
     },
     "execution_count": 36,
     "metadata": {},
     "output_type": "execute_result"
    }
   ],
   "source": [
    "Angel_market.columns"
   ]
  },
  {
   "cell_type": "markdown",
   "metadata": {},
   "source": [
    "Let's ensure that the dataset doesn't contain any NaN value. "
   ]
  },
  {
   "cell_type": "code",
   "execution_count": 37,
   "metadata": {},
   "outputs": [
    {
     "data": {
      "text/plain": [
       "False"
      ]
     },
     "execution_count": 37,
     "metadata": {},
     "output_type": "execute_result"
    }
   ],
   "source": [
    "Angel_market.isnull().values.any()"
   ]
  },
  {
   "cell_type": "code",
   "execution_count": null,
   "metadata": {},
   "outputs": [],
   "source": []
  }
 ],
 "metadata": {
  "kernelspec": {
   "display_name": "Python 3",
   "language": "python",
   "name": "python3"
  },
  "language_info": {
   "codemirror_mode": {
    "name": "ipython",
    "version": 3
   },
   "file_extension": ".py",
   "mimetype": "text/x-python",
   "name": "python",
   "nbconvert_exporter": "python",
   "pygments_lexer": "ipython3",
   "version": "3.8.3"
  }
 },
 "nbformat": 4,
 "nbformat_minor": 4
}

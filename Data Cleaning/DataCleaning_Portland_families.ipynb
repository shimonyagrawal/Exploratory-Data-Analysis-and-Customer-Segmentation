{
 "cells": [
  {
   "cell_type": "code",
   "execution_count": 3,
   "metadata": {},
   "outputs": [
    {
     "data": {
      "text/html": [
       "<div>\n",
       "<style scoped>\n",
       "    .dataframe tbody tr th:only-of-type {\n",
       "        vertical-align: middle;\n",
       "    }\n",
       "\n",
       "    .dataframe tbody tr th {\n",
       "        vertical-align: top;\n",
       "    }\n",
       "\n",
       "    .dataframe thead th {\n",
       "        text-align: right;\n",
       "    }\n",
       "</style>\n",
       "<table border=\"1\" class=\"dataframe\">\n",
       "  <thead>\n",
       "    <tr style=\"text-align: right;\">\n",
       "      <th></th>\n",
       "      <th>householdID</th>\n",
       "      <th>total_ppl</th>\n",
       "      <th>own_rent</th>\n",
       "      <th>square_foot</th>\n",
       "      <th>household_income</th>\n",
       "      <th>number_pets</th>\n",
       "      <th>county</th>\n",
       "      <th>entertainment_spend_est</th>\n",
       "      <th>travel_spend_est</th>\n",
       "      <th>under_12</th>\n",
       "      <th>LL_passholder</th>\n",
       "    </tr>\n",
       "  </thead>\n",
       "  <tbody>\n",
       "    <tr>\n",
       "      <th>0</th>\n",
       "      <td>1</td>\n",
       "      <td>3</td>\n",
       "      <td>own</td>\n",
       "      <td>3309</td>\n",
       "      <td>80464</td>\n",
       "      <td>1</td>\n",
       "      <td>York</td>\n",
       "      <td>2535</td>\n",
       "      <td>2842</td>\n",
       "      <td>1</td>\n",
       "      <td>No</td>\n",
       "    </tr>\n",
       "    <tr>\n",
       "      <th>1</th>\n",
       "      <td>2</td>\n",
       "      <td>3</td>\n",
       "      <td>own</td>\n",
       "      <td>3814</td>\n",
       "      <td>47696</td>\n",
       "      <td>2</td>\n",
       "      <td>York</td>\n",
       "      <td>2913</td>\n",
       "      <td>3938</td>\n",
       "      <td>1</td>\n",
       "      <td>No</td>\n",
       "    </tr>\n",
       "    <tr>\n",
       "      <th>2</th>\n",
       "      <td>3</td>\n",
       "      <td>3</td>\n",
       "      <td>rent</td>\n",
       "      <td>2592</td>\n",
       "      <td>108256</td>\n",
       "      <td>2</td>\n",
       "      <td>Cumberland</td>\n",
       "      <td>1986</td>\n",
       "      <td>3687</td>\n",
       "      <td>2</td>\n",
       "      <td>No</td>\n",
       "    </tr>\n",
       "    <tr>\n",
       "      <th>3</th>\n",
       "      <td>4</td>\n",
       "      <td>2</td>\n",
       "      <td>own</td>\n",
       "      <td>2628</td>\n",
       "      <td>68064</td>\n",
       "      <td>1</td>\n",
       "      <td>Cumberland</td>\n",
       "      <td>2505</td>\n",
       "      <td>2826</td>\n",
       "      <td>1</td>\n",
       "      <td>No</td>\n",
       "    </tr>\n",
       "    <tr>\n",
       "      <th>4</th>\n",
       "      <td>5</td>\n",
       "      <td>3</td>\n",
       "      <td>rent</td>\n",
       "      <td>2442</td>\n",
       "      <td>62786</td>\n",
       "      <td>2</td>\n",
       "      <td>Sagadahoc</td>\n",
       "      <td>3541</td>\n",
       "      <td>1344</td>\n",
       "      <td>2</td>\n",
       "      <td>No</td>\n",
       "    </tr>\n",
       "  </tbody>\n",
       "</table>\n",
       "</div>"
      ],
      "text/plain": [
       "   householdID  total_ppl own_rent  square_foot  household_income  \\\n",
       "0            1          3      own         3309             80464   \n",
       "1            2          3      own         3814             47696   \n",
       "2            3          3     rent         2592            108256   \n",
       "3            4          2      own         2628             68064   \n",
       "4            5          3     rent         2442             62786   \n",
       "\n",
       "   number_pets      county  entertainment_spend_est  travel_spend_est  \\\n",
       "0            1        York                     2535              2842   \n",
       "1            2        York                     2913              3938   \n",
       "2            2  Cumberland                     1986              3687   \n",
       "3            1  Cumberland                     2505              2826   \n",
       "4            2   Sagadahoc                     3541              1344   \n",
       "\n",
       "   under_12 LL_passholder  \n",
       "0         1            No  \n",
       "1         1            No  \n",
       "2         2            No  \n",
       "3         1            No  \n",
       "4         2            No  "
      ]
     },
     "execution_count": 3,
     "metadata": {},
     "output_type": "execute_result"
    }
   ],
   "source": [
    "import pandas as pd\n",
    "import numpy as np\n",
    "Portland_families = pd.read_csv(\"portland_families.csv\")\n",
    "Portland_families.head()"
   ]
  },
  {
   "cell_type": "markdown",
   "metadata": {},
   "source": [
    "We will remove the household ID column as this may not be required in the analysis."
   ]
  },
  {
   "cell_type": "markdown",
   "metadata": {},
   "source": [
    "Let's ensure that the dataset doesn't contain any NaN value. "
   ]
  },
  {
   "cell_type": "code",
   "execution_count": 4,
   "metadata": {},
   "outputs": [
    {
     "data": {
      "text/plain": [
       "False"
      ]
     },
     "execution_count": 4,
     "metadata": {},
     "output_type": "execute_result"
    }
   ],
   "source": [
    "Portland_families.isnull().values.any()"
   ]
  },
  {
   "cell_type": "code",
   "execution_count": null,
   "metadata": {},
   "outputs": [],
   "source": []
  }
 ],
 "metadata": {
  "kernelspec": {
   "display_name": "Python 3",
   "language": "python",
   "name": "python3"
  },
  "language_info": {
   "codemirror_mode": {
    "name": "ipython",
    "version": 3
   },
   "file_extension": ".py",
   "mimetype": "text/x-python",
   "name": "python",
   "nbconvert_exporter": "python",
   "pygments_lexer": "ipython3",
   "version": "3.8.3"
  }
 },
 "nbformat": 4,
 "nbformat_minor": 4
}
